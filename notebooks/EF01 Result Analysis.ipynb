{
 "cells": [
  {
   "cell_type": "markdown",
   "id": "73c55255-c805-47c5-a40a-20e3e558cd4e",
   "metadata": {},
   "source": [
    "# Result Analysis\n",
    "This notebook analyses the results of a single run of the model."
   ]
  },
  {
   "cell_type": "code",
   "execution_count": null,
   "id": "8ee6046d-baea-4775-af97-a1cd2e04ecd9",
   "metadata": {},
   "outputs": [],
   "source": [
    "import warnings\n",
    "from pathlib import Path\n",
    "\n",
    "import pandas as pd\n",
    "import quantstats"
   ]
  },
  {
   "cell_type": "code",
   "execution_count": null,
   "id": "09b61419-2bd7-4b36-a660-973cffee0327",
   "metadata": {},
   "outputs": [],
   "source": [
    "results_root = Path.cwd().parent / 'results'\n",
    "experiment_name = 'experiment_quandl_100assets_tft_cpnone_len63_notime_div_v1'\n",
    "window = '2016-2017'\n",
    "window_root = results_root / experiment_name / window\n",
    "file_name = 'captured_returns_sw.csv'\n",
    "res_df = pd.read_csv(window_root / file_name, index_col=[0], parse_dates=['time'])\n",
    "res_df.head()"
   ]
  },
  {
   "cell_type": "code",
   "execution_count": null,
   "id": "2eb8f34a-2bb9-4797-8621-1de461aab8fd",
   "metadata": {},
   "outputs": [],
   "source": [
    "daily_return_df = res_df[['time', 'captured_returns']].groupby('time').sum()\n",
    "daily_return_df.head()"
   ]
  },
  {
   "cell_type": "code",
   "execution_count": null,
   "id": "84fe5ae6-5a68-48a9-a54a-68da81c64b8a",
   "metadata": {},
   "outputs": [],
   "source": [
    "output_path = window_root / 'report.html'\n",
    "with warnings.catch_warnings():\n",
    "    warnings.simplefilter(\"ignore\", FutureWarning)\n",
    "    quantstats.reports.html(\n",
    "        returns=daily_return_df['captured_returns'],\n",
    "        benchmark='SPY',\n",
    "        periods_per_year=252,\n",
    "        output=output_path\n",
    "    )"
   ]
  }
 ],
 "metadata": {
  "kernelspec": {
   "display_name": "Python 3 (ipykernel)",
   "language": "python",
   "name": "python3"
  },
  "language_info": {
   "codemirror_mode": {
    "name": "ipython",
    "version": 3
   },
   "file_extension": ".py",
   "mimetype": "text/x-python",
   "name": "python",
   "nbconvert_exporter": "python",
   "pygments_lexer": "ipython3",
   "version": "3.11.6"
  }
 },
 "nbformat": 4,
 "nbformat_minor": 5
}
