{
 "cells": [
  {
   "cell_type": "markdown",
   "id": "73c55255-c805-47c5-a40a-20e3e558cd4e",
   "metadata": {},
   "source": [
    "# Result Analysis\n",
    "This notebook analyses the results of a single run of the model."
   ]
  },
  {
   "cell_type": "code",
   "execution_count": 1,
   "id": "8ee6046d-baea-4775-af97-a1cd2e04ecd9",
   "metadata": {},
   "outputs": [],
   "source": [
    "import warnings\n",
    "from pathlib import Path\n",
    "\n",
    "import pandas as pd\n",
    "import quantstats"
   ]
  },
  {
   "cell_type": "code",
   "execution_count": 2,
   "id": "09b61419-2bd7-4b36-a660-973cffee0327",
   "metadata": {},
   "outputs": [
    {
     "name": "stdout",
     "output_type": "stream",
     "text": [
      "Window root /Users/donlelef/Git/trading-momentum-transformer/results/experiment_andre_features_tft_cpnone_len63_notime_div_v1\n",
      "Creating report for /Users/donlelef/Git/trading-momentum-transformer/results/experiment_andre_features_tft_cpnone_len63_notime_div_v1/2018-2019/report.html\n",
      "[*********************100%%**********************]  1 of 1 completed\n",
      "Creating report for /Users/donlelef/Git/trading-momentum-transformer/results/experiment_andre_features_tft_cpnone_len63_notime_div_v1/2019-2020/report.html\n",
      "[*********************100%%**********************]  1 of 1 completed\n",
      "Creating report for /Users/donlelef/Git/trading-momentum-transformer/results/experiment_andre_features_tft_cpnone_len63_notime_div_v1/2021-2022/report.html\n",
      "[*********************100%%**********************]  1 of 1 completed\n",
      "Creating report for /Users/donlelef/Git/trading-momentum-transformer/results/experiment_andre_features_tft_cpnone_len63_notime_div_v1/2022-2023/report.html\n",
      "[*********************100%%**********************]  1 of 1 completed\n",
      "Creating report for /Users/donlelef/Git/trading-momentum-transformer/results/experiment_andre_features_tft_cpnone_len63_notime_div_v1/2020-2021/report.html\n",
      "[*********************100%%**********************]  1 of 1 completed\n",
      "Creating report for /Users/donlelef/Git/trading-momentum-transformer/results/experiment_andre_features_tft_cpnone_len63_notime_div_v1/2016-2017/report.html\n",
      "[*********************100%%**********************]  1 of 1 completed\n",
      "Creating report for /Users/donlelef/Git/trading-momentum-transformer/results/experiment_andre_features_tft_cpnone_len63_notime_div_v1/2017-2018/report.html\n",
      "[*********************100%%**********************]  1 of 1 completed\n"
     ]
    }
   ],
   "source": [
    "results_root = Path.cwd().parent / 'results'\n",
    "experiment_name = 'experiment_andre_features_tft_cpnone_len63_notime_div_v1'\n",
    "window_root = results_root / experiment_name\n",
    "print(f'Window root {window_root}')\n",
    "for res_file_name in window_root.glob('**/captured_returns_sw.csv'):\n",
    "    res_df = pd.read_csv(res_file_name, index_col=[0], parse_dates=['time'])\n",
    "    daily_return_df = res_df[['time', 'captured_returns']].groupby('time').sum()\n",
    "    daily_return_df['captured_returns'] = daily_return_df['captured_returns'].clip(-0.5, 0.5)\n",
    "    output_path = res_file_name.parent / 'report.html'\n",
    "    print(f'Creating report for {output_path}')\n",
    "    with warnings.catch_warnings():\n",
    "        warnings.simplefilter(\"ignore\", FutureWarning)\n",
    "        quantstats.reports.html(\n",
    "            returns=daily_return_df['captured_returns'],\n",
    "            benchmark='SPY',\n",
    "            periods_per_year=252,\n",
    "            output=output_path\n",
    "        )"
   ]
  }
 ],
 "metadata": {
  "kernelspec": {
   "display_name": "Python 3 (ipykernel)",
   "language": "python",
   "name": "python3"
  },
  "language_info": {
   "codemirror_mode": {
    "name": "ipython",
    "version": 3
   },
   "file_extension": ".py",
   "mimetype": "text/x-python",
   "name": "python",
   "nbconvert_exporter": "python",
   "pygments_lexer": "ipython3",
   "version": "3.11.6"
  }
 },
 "nbformat": 4,
 "nbformat_minor": 5
}
